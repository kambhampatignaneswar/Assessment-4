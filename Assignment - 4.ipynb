{
 "cells": [
  {
   "cell_type": "markdown",
   "id": "d226ade3",
   "metadata": {},
   "source": [
    "# list = [1,2,3,4] use filter function expected output is [2,4]\n"
   ]
  },
  {
   "cell_type": "code",
   "execution_count": 2,
   "id": "3e3b6c4d",
   "metadata": {},
   "outputs": [
    {
     "name": "stdout",
     "output_type": "stream",
     "text": [
      "[2, 4]\n"
     ]
    }
   ],
   "source": [
    "list1 = [1,2,3,4]\n",
    "def even(num):\n",
    "    return num%2==0\n",
    "filter_list=list(filter(even,list1))\n",
    "print(filter_list)"
   ]
  },
  {
   "cell_type": "code",
   "execution_count": null,
   "id": "6ad8e4f4",
   "metadata": {},
   "outputs": [],
   "source": []
  }
 ],
 "metadata": {
  "kernelspec": {
   "display_name": "Python 3 (ipykernel)",
   "language": "python",
   "name": "python3"
  },
  "language_info": {
   "codemirror_mode": {
    "name": "ipython",
    "version": 3
   },
   "file_extension": ".py",
   "mimetype": "text/x-python",
   "name": "python",
   "nbconvert_exporter": "python",
   "pygments_lexer": "ipython3",
   "version": "3.9.7"
  }
 },
 "nbformat": 4,
 "nbformat_minor": 5
}
